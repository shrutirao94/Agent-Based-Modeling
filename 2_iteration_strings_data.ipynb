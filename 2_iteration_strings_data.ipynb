{
 "cells": [
  {
   "cell_type": "markdown",
   "metadata": {
    "slideshow": {
     "slide_type": "slide"
    }
   },
   "source": [
    "# Introduction to Python: A Slightly Deeper Dive Into Iteration, Strings, Lists, Dictionaries, and Conditional Execution\n",
    "\n",
    "John McLevey   \n",
    "January 2018 \n",
    "\n",
    "This notebook is part of the course materials for my \"[Big Data and Social Science Research](http://www.johnmclevey.com/475)\" course at the University of Waterloo. \n",
    "\n",
    "By the end of this class, you should be able to (1) understand iteration in Python, (2) manipulate strings, and (3) understand basic data structures (lists, dictionaries, and tuples).\n",
    "\n",
    "## Readings\n",
    "\n",
    "- Chapter 5 \"Iteration\" from [Python for Everyone](https://www.py4e.com/html3/05-iterations)\n",
    "- Chapter 6 \"Strings\" from [Python for Everyone](https://www.py4e.com/html3/06-strings)\n",
    "- Chapter 8 \"Lists\" from [Python for Everyone](https://www.py4e.com/html3/08-lists)\n",
    "- Chapter 9 \"Dictionaries\" from [Python for Everyone](https://www.py4e.com/html3/09-dictionaries)\n",
    "- Chapter 10 \"Tuples\" from [Python for Everyone](https://www.py4e.com/html3/10-tuples)"
   ]
  },
  {
   "cell_type": "markdown",
   "metadata": {
    "slideshow": {
     "slide_type": "slide"
    }
   },
   "source": [
    "# Iteration\n",
    "\n",
    "One form of iteration in Python is the `while` statment. It should be pretty intuitive. Can you describe what's happening in the code below?"
   ]
  },
  {
   "cell_type": "code",
   "execution_count": 1,
   "metadata": {},
   "outputs": [
    {
     "name": "stdout",
     "output_type": "stream",
     "text": [
      "3\n",
      "2\n",
      "1\n",
      "Finished!\n"
     ]
    }
   ],
   "source": [
    "num = 3\n",
    "\n",
    "while num > 0:\n",
    "    print(num)\n",
    "    num = num - 1 # what's happening here? recall content from last class.\n",
    "print('Finished!')"
   ]
  },
  {
   "cell_type": "markdown",
   "metadata": {},
   "source": [
    "The code above will eventually stop running because the value of `num` changes inside the loop. When the value of `num` is no longer great than 0, it terminates. If Python doesn't know when to stop executing the loop, then you have an infinite loop. Python will keep going until you force it to stop / your battery dies / you lose power, etc. "
   ]
  },
  {
   "cell_type": "markdown",
   "metadata": {},
   "source": [
    "Often, we want to loop through some sort of collection. Last class, we introduced how to loop through a list. Recall:"
   ]
  },
  {
   "cell_type": "code",
   "execution_count": 2,
   "metadata": {},
   "outputs": [],
   "source": [
    "net_marv = ['Jessica Jones', 'Daredevil', 'Punisher', 'Luke Cage']"
   ]
  },
  {
   "cell_type": "code",
   "execution_count": 3,
   "metadata": {},
   "outputs": [
    {
     "name": "stdout",
     "output_type": "stream",
     "text": [
      "What are your thoughts on Punisher?\n"
     ]
    }
   ],
   "source": [
    "import random\n",
    "print('What are your thoughts on ' + random.choice(net_marv) + '?')"
   ]
  },
  {
   "cell_type": "code",
   "execution_count": 4,
   "metadata": {},
   "outputs": [
    {
     "name": "stdout",
     "output_type": "stream",
     "text": [
      "What are your thoughts on:\n",
      " - Jessica Jones?\n",
      " - Daredevil?\n",
      " - Punisher?\n",
      " - Luke Cage?\n"
     ]
    }
   ],
   "source": [
    "print(\"What are your thoughts on:\")\n",
    "\n",
    "for show in net_marv:\n",
    "    print(\" - \" + show + '?')"
   ]
  },
  {
   "cell_type": "markdown",
   "metadata": {},
   "source": [
    "Typically, you:\n",
    "\n",
    "- initializing some sort of variable before the loop start (e.g. empty list)\n",
    "- perform some sort of computation for each item in the loop body (e.g. changing or adding things to a list)\n",
    "- inspect the results when you are done"
   ]
  },
  {
   "cell_type": "markdown",
   "metadata": {},
   "source": [
    "What if we wanted to count the number of items in a list?"
   ]
  },
  {
   "cell_type": "code",
   "execution_count": 5,
   "metadata": {},
   "outputs": [
    {
     "data": {
      "text/plain": [
       "4"
      ]
     },
     "execution_count": 5,
     "metadata": {},
     "output_type": "execute_result"
    }
   ],
   "source": [
    "len(net_marv)"
   ]
  },
  {
   "cell_type": "code",
   "execution_count": 25,
   "metadata": {},
   "outputs": [
    {
     "name": "stdout",
     "output_type": "stream",
     "text": [
      "Count: 4\n"
     ]
    }
   ],
   "source": [
    "count = 0\n",
    "for each in net_marv:\n",
    "    count = count + 1\n",
    "print(\"Count: \" + str(count))"
   ]
  },
  {
   "cell_type": "markdown",
   "metadata": {},
   "source": [
    "It makes sense to use the `len` function here. But the code immediatly above also counts the number of items in the list. It initializes a counter at 0, and then iterates through each item in the list. For each item, it updates the value of the counter by one. Once it gets through all of the items in the list, the loop terminates and Pyton runs the next line of code, which prints the new value of the counter. Note that it matches the same value provided by the len function.\n",
    "\n",
    "What if we were to add a new item to the list and count again? "
   ]
  },
  {
   "cell_type": "code",
   "execution_count": 6,
   "metadata": {},
   "outputs": [
    {
     "name": "stdout",
     "output_type": "stream",
     "text": [
      "Jessica Jones\n",
      "Daredevil\n",
      "Punisher\n",
      "Luke Cage\n",
      "The Defenders\n"
     ]
    }
   ],
   "source": [
    "net_marv.append('The Defenders')\n",
    "\n",
    "for each in net_marv:\n",
    "    print(each)"
   ]
  },
  {
   "cell_type": "code",
   "execution_count": 7,
   "metadata": {},
   "outputs": [
    {
     "name": "stdout",
     "output_type": "stream",
     "text": [
      "Count: 5\n"
     ]
    }
   ],
   "source": [
    "count = 0\n",
    "for each in net_marv:\n",
    "    count = count + 1\n",
    "print(\"Count: \" + str(count))"
   ]
  },
  {
   "cell_type": "markdown",
   "metadata": {},
   "source": [
    "Exactly what we were expecting! :) "
   ]
  },
  {
   "cell_type": "code",
   "execution_count": 8,
   "metadata": {},
   "outputs": [
    {
     "name": "stdout",
     "output_type": "stream",
     "text": [
      "85.33333333333333\n"
     ]
    }
   ],
   "source": [
    "grades = [80, 88, 92, 74, 98, 73, 88, 86, 89]\n",
    "\n",
    "total = 0\n",
    "\n",
    "for grade in grades:\n",
    "    total = total + grade\n",
    "print(total / len(grades))"
   ]
  },
  {
   "cell_type": "markdown",
   "metadata": {},
   "source": [
    "# Excercise\n",
    "\n",
    "Let's do an excercise from the Severance book:\n",
    "\n",
    "> Exercise 1: Write a program which repeatedly reads numbers until the user enters \"done\". Once \"done\" is entered, print out the total, count, and average of the numbers. If the user enters anything other than a number, detect their mistake using try and except and print an error message and skip to the next number."
   ]
  },
  {
   "cell_type": "code",
   "execution_count": null,
   "metadata": {},
   "outputs": [],
   "source": []
  },
  {
   "cell_type": "code",
   "execution_count": null,
   "metadata": {},
   "outputs": [],
   "source": []
  },
  {
   "cell_type": "markdown",
   "metadata": {},
   "source": [
    "# Strings"
   ]
  },
  {
   "cell_type": "markdown",
   "metadata": {},
   "source": [
    "We actually learned a lot about strings in the last class. Let's pick up a few new things. "
   ]
  },
  {
   "cell_type": "code",
   "execution_count": 9,
   "metadata": {},
   "outputs": [
    {
     "data": {
      "text/plain": [
       "4"
      ]
     },
     "execution_count": 9,
     "metadata": {},
     "output_type": "execute_result"
    }
   ],
   "source": [
    "best = 'cats'\n",
    "len(best)"
   ]
  },
  {
   "cell_type": "markdown",
   "metadata": {},
   "source": [
    "4 what?"
   ]
  },
  {
   "cell_type": "code",
   "execution_count": 11,
   "metadata": {},
   "outputs": [
    {
     "data": {
      "text/plain": [
       "'c'"
      ]
     },
     "execution_count": 11,
     "metadata": {},
     "output_type": "execute_result"
    }
   ],
   "source": [
    "best[0]"
   ]
  },
  {
   "cell_type": "code",
   "execution_count": 12,
   "metadata": {},
   "outputs": [
    {
     "data": {
      "text/plain": [
       "'a'"
      ]
     },
     "execution_count": 12,
     "metadata": {},
     "output_type": "execute_result"
    }
   ],
   "source": [
    "best[1]"
   ]
  },
  {
   "cell_type": "code",
   "execution_count": 13,
   "metadata": {},
   "outputs": [
    {
     "data": {
      "text/plain": [
       "'t'"
      ]
     },
     "execution_count": 13,
     "metadata": {},
     "output_type": "execute_result"
    }
   ],
   "source": [
    "best[2]"
   ]
  },
  {
   "cell_type": "code",
   "execution_count": 14,
   "metadata": {},
   "outputs": [
    {
     "data": {
      "text/plain": [
       "'s'"
      ]
     },
     "execution_count": 14,
     "metadata": {},
     "output_type": "execute_result"
    }
   ],
   "source": [
    "best[3]"
   ]
  },
  {
   "cell_type": "code",
   "execution_count": 15,
   "metadata": {},
   "outputs": [
    {
     "data": {
      "text/plain": [
       "'t'"
      ]
     },
     "execution_count": 15,
     "metadata": {},
     "output_type": "execute_result"
    }
   ],
   "source": [
    "best[-2]"
   ]
  },
  {
   "cell_type": "code",
   "execution_count": 16,
   "metadata": {},
   "outputs": [
    {
     "data": {
      "text/plain": [
       "'at'"
      ]
     },
     "execution_count": 16,
     "metadata": {},
     "output_type": "execute_result"
    }
   ],
   "source": [
    "best[1:3]"
   ]
  },
  {
   "cell_type": "markdown",
   "metadata": {},
   "source": [
    "What's going on ^?"
   ]
  },
  {
   "cell_type": "code",
   "execution_count": 17,
   "metadata": {},
   "outputs": [],
   "source": [
    "why = 'Because they are smarter, funnier, and cuter.'"
   ]
  },
  {
   "cell_type": "code",
   "execution_count": 18,
   "metadata": {},
   "outputs": [
    {
     "data": {
      "text/plain": [
       "45"
      ]
     },
     "execution_count": 18,
     "metadata": {},
     "output_type": "execute_result"
    }
   ],
   "source": [
    "len(why)"
   ]
  },
  {
   "cell_type": "code",
   "execution_count": 19,
   "metadata": {},
   "outputs": [
    {
     "name": "stdout",
     "output_type": "stream",
     "text": [
      "Yes, John thinks cats are smarter than dogs. I agree.\n"
     ]
    }
   ],
   "source": [
    "if 'smarter' in why:\n",
    "    print('Yes, John thinks cats are smarter than dogs. I agree.')\n",
    "else:\n",
    "    print(\"John didn't say whether cats are smarter than dogs.\")"
   ]
  },
  {
   "cell_type": "code",
   "execution_count": 20,
   "metadata": {},
   "outputs": [
    {
     "name": "stdout",
     "output_type": "stream",
     "text": [
      "SERIOUSLY?\n"
     ]
    }
   ],
   "source": [
    "response = \"SERIOUSLY?\"\n",
    "print(response)"
   ]
  },
  {
   "cell_type": "code",
   "execution_count": 21,
   "metadata": {},
   "outputs": [
    {
     "name": "stdout",
     "output_type": "stream",
     "text": [
      "I think you meant to say \"seriously?\". \n",
      "Stop yelling at me. It is a totally reasonabe opinion to have.\n"
     ]
    }
   ],
   "source": [
    "print('I think you meant to say \"' + response.lower() + '\". \\nStop yelling at me. It is a totally reasonabe opinion to have.')"
   ]
  },
  {
   "cell_type": "markdown",
   "metadata": {},
   "source": [
    "Strings are objects in Python, and there are special methods -- or functions -- that can do things to strings. We just saw one of them: `lower()`. We can see some other methods that can be used on our string `why` by using the `dir` function. It will display available methods. \n",
    "\n",
    "Hey, by the way, do you know what the difference between calling a method and calling a function? \n",
    "\n",
    "..."
   ]
  },
  {
   "cell_type": "code",
   "execution_count": 22,
   "metadata": {},
   "outputs": [
    {
     "data": {
      "text/plain": [
       "['__add__',\n",
       " '__class__',\n",
       " '__contains__',\n",
       " '__delattr__',\n",
       " '__dir__',\n",
       " '__doc__',\n",
       " '__eq__',\n",
       " '__format__',\n",
       " '__ge__',\n",
       " '__getattribute__',\n",
       " '__getitem__',\n",
       " '__getnewargs__',\n",
       " '__gt__',\n",
       " '__hash__',\n",
       " '__init__',\n",
       " '__init_subclass__',\n",
       " '__iter__',\n",
       " '__le__',\n",
       " '__len__',\n",
       " '__lt__',\n",
       " '__mod__',\n",
       " '__mul__',\n",
       " '__ne__',\n",
       " '__new__',\n",
       " '__reduce__',\n",
       " '__reduce_ex__',\n",
       " '__repr__',\n",
       " '__rmod__',\n",
       " '__rmul__',\n",
       " '__setattr__',\n",
       " '__sizeof__',\n",
       " '__str__',\n",
       " '__subclasshook__',\n",
       " 'capitalize',\n",
       " 'casefold',\n",
       " 'center',\n",
       " 'count',\n",
       " 'encode',\n",
       " 'endswith',\n",
       " 'expandtabs',\n",
       " 'find',\n",
       " 'format',\n",
       " 'format_map',\n",
       " 'index',\n",
       " 'isalnum',\n",
       " 'isalpha',\n",
       " 'isdecimal',\n",
       " 'isdigit',\n",
       " 'isidentifier',\n",
       " 'islower',\n",
       " 'isnumeric',\n",
       " 'isprintable',\n",
       " 'isspace',\n",
       " 'istitle',\n",
       " 'isupper',\n",
       " 'join',\n",
       " 'ljust',\n",
       " 'lower',\n",
       " 'lstrip',\n",
       " 'maketrans',\n",
       " 'partition',\n",
       " 'replace',\n",
       " 'rfind',\n",
       " 'rindex',\n",
       " 'rjust',\n",
       " 'rpartition',\n",
       " 'rsplit',\n",
       " 'rstrip',\n",
       " 'split',\n",
       " 'splitlines',\n",
       " 'startswith',\n",
       " 'strip',\n",
       " 'swapcase',\n",
       " 'title',\n",
       " 'translate',\n",
       " 'upper',\n",
       " 'zfill']"
      ]
     },
     "execution_count": 22,
     "metadata": {},
     "output_type": "execute_result"
    }
   ],
   "source": [
    "dir(why)"
   ]
  },
  {
   "cell_type": "markdown",
   "metadata": {},
   "source": [
    "# YOUR TURN! \n",
    "\n",
    "Use some other string methods. Maybe start with `strip()` and `replace()`. Both are very useful."
   ]
  },
  {
   "cell_type": "code",
   "execution_count": null,
   "metadata": {},
   "outputs": [],
   "source": []
  },
  {
   "cell_type": "markdown",
   "metadata": {},
   "source": [
    "# Lists "
   ]
  },
  {
   "cell_type": "markdown",
   "metadata": {},
   "source": [
    "Remember, a list is a sequenece of values seperated by a `,` inside `[]`. Lists have a specific order of items, and those items have an index that indicates their position in the list. "
   ]
  },
  {
   "cell_type": "code",
   "execution_count": 23,
   "metadata": {},
   "outputs": [],
   "source": [
    "things = ['this','list','has',5,'things']"
   ]
  },
  {
   "cell_type": "code",
   "execution_count": 24,
   "metadata": {},
   "outputs": [
    {
     "name": "stdout",
     "output_type": "stream",
     "text": [
      "this\n",
      "list\n",
      "has\n",
      "5\n",
      "things\n"
     ]
    }
   ],
   "source": [
    "for thing in things:\n",
    "    print(thing)"
   ]
  },
  {
   "cell_type": "code",
   "execution_count": 25,
   "metadata": {},
   "outputs": [
    {
     "name": "stdout",
     "output_type": "stream",
     "text": [
      "this\n",
      "list\n",
      "has\n",
      "5\n",
      "things\n"
     ]
    }
   ],
   "source": [
    "for stuff in things:\n",
    "    print(stuff)"
   ]
  },
  {
   "cell_type": "code",
   "execution_count": 26,
   "metadata": {},
   "outputs": [
    {
     "name": "stdout",
     "output_type": "stream",
     "text": [
      "<class 'str'>\n",
      "<class 'str'>\n",
      "<class 'str'>\n",
      "<class 'int'>\n",
      "<class 'str'>\n"
     ]
    }
   ],
   "source": [
    "for each in things:\n",
    "    print(type(each))"
   ]
  },
  {
   "cell_type": "markdown",
   "metadata": {},
   "source": [
    "The items in lists are indexed. In Python, indexes start at 0, not 1. "
   ]
  },
  {
   "cell_type": "code",
   "execution_count": 28,
   "metadata": {},
   "outputs": [
    {
     "name": "stdout",
     "output_type": "stream",
     "text": [
      "h\n",
      "a\n",
      "s\n"
     ]
    }
   ],
   "source": [
    "for letter in things[2]:\n",
    "    print(letter)"
   ]
  },
  {
   "cell_type": "markdown",
   "metadata": {},
   "source": [
    "You can have lists of lists! "
   ]
  },
  {
   "cell_type": "code",
   "execution_count": 34,
   "metadata": {},
   "outputs": [],
   "source": [
    "lol = [['this is', 'a list', 'inside of', 'a list'], ['ditto']]"
   ]
  },
  {
   "cell_type": "code",
   "execution_count": 33,
   "metadata": {},
   "outputs": [
    {
     "data": {
      "text/plain": [
       "2"
      ]
     },
     "execution_count": 33,
     "metadata": {},
     "output_type": "execute_result"
    }
   ],
   "source": [
    "len(lol)"
   ]
  },
  {
   "cell_type": "code",
   "execution_count": 35,
   "metadata": {},
   "outputs": [
    {
     "data": {
      "text/plain": [
       "['this is', 'a list', 'inside of', 'a list']"
      ]
     },
     "execution_count": 35,
     "metadata": {},
     "output_type": "execute_result"
    }
   ],
   "source": [
    "lol[0]"
   ]
  },
  {
   "cell_type": "code",
   "execution_count": 36,
   "metadata": {},
   "outputs": [
    {
     "data": {
      "text/plain": [
       "['ditto']"
      ]
     },
     "execution_count": 36,
     "metadata": {},
     "output_type": "execute_result"
    }
   ],
   "source": [
    "lol[1]"
   ]
  },
  {
   "cell_type": "code",
   "execution_count": 37,
   "metadata": {},
   "outputs": [
    {
     "ename": "IndexError",
     "evalue": "list index out of range",
     "output_type": "error",
     "traceback": [
      "\u001b[0;31m---------------------------------------------------------------------------\u001b[0m",
      "\u001b[0;31mIndexError\u001b[0m                                Traceback (most recent call last)",
      "\u001b[0;32m<ipython-input-37-cf6f954c17b8>\u001b[0m in \u001b[0;36m<module>\u001b[0;34m()\u001b[0m\n\u001b[0;32m----> 1\u001b[0;31m \u001b[0mlol\u001b[0m\u001b[0;34m[\u001b[0m\u001b[0;36m2\u001b[0m\u001b[0;34m]\u001b[0m\u001b[0;34m\u001b[0m\u001b[0m\n\u001b[0m",
      "\u001b[0;31mIndexError\u001b[0m: list index out of range"
     ]
    }
   ],
   "source": [
    "lol[2]"
   ]
  },
  {
   "cell_type": "markdown",
   "metadata": {},
   "source": [
    "^ Remember, Python is 0 indexed. "
   ]
  },
  {
   "cell_type": "code",
   "execution_count": 14,
   "metadata": {},
   "outputs": [
    {
     "data": {
      "text/plain": [
       "['this is', 'a list', 'inside of', 'a list', 'ditto']"
      ]
     },
     "execution_count": 14,
     "metadata": {},
     "output_type": "execute_result"
    }
   ],
   "source": [
    "lol[0] + lol[1]"
   ]
  },
  {
   "cell_type": "code",
   "execution_count": 38,
   "metadata": {},
   "outputs": [],
   "source": [
    "lol.append(['I want to', 'cram in', 'another list'])"
   ]
  },
  {
   "cell_type": "code",
   "execution_count": 41,
   "metadata": {},
   "outputs": [
    {
     "data": {
      "text/plain": [
       "[['this is', 'a list', 'inside of', 'a list'],\n",
       " ['ditto'],\n",
       " ['I want to', 'cram in', 'another list']]"
      ]
     },
     "execution_count": 41,
     "metadata": {},
     "output_type": "execute_result"
    }
   ],
   "source": [
    "lol"
   ]
  },
  {
   "cell_type": "code",
   "execution_count": 42,
   "metadata": {},
   "outputs": [
    {
     "data": {
      "text/plain": [
       "['I want to', 'cram in', 'another list']"
      ]
     },
     "execution_count": 42,
     "metadata": {},
     "output_type": "execute_result"
    }
   ],
   "source": [
    "lol[2]"
   ]
  },
  {
   "cell_type": "markdown",
   "metadata": {},
   "source": [
    "Now `lol[2]` works because we have added to the `lol` list of lists. "
   ]
  },
  {
   "cell_type": "code",
   "execution_count": 43,
   "metadata": {},
   "outputs": [],
   "source": [
    "del lol[1]"
   ]
  },
  {
   "cell_type": "code",
   "execution_count": 44,
   "metadata": {},
   "outputs": [
    {
     "data": {
      "text/plain": [
       "[['this is', 'a list', 'inside of', 'a list'],\n",
       " ['I want to', 'cram in', 'another list']]"
      ]
     },
     "execution_count": 44,
     "metadata": {},
     "output_type": "execute_result"
    }
   ],
   "source": [
    "lol"
   ]
  },
  {
   "cell_type": "code",
   "execution_count": 46,
   "metadata": {},
   "outputs": [],
   "source": [
    "nums = [5,7,9,11,54,6,584974]"
   ]
  },
  {
   "cell_type": "code",
   "execution_count": 47,
   "metadata": {},
   "outputs": [
    {
     "data": {
      "text/plain": [
       "584974"
      ]
     },
     "execution_count": 47,
     "metadata": {},
     "output_type": "execute_result"
    }
   ],
   "source": [
    "max(nums)"
   ]
  },
  {
   "cell_type": "code",
   "execution_count": 48,
   "metadata": {},
   "outputs": [
    {
     "data": {
      "text/plain": [
       "5"
      ]
     },
     "execution_count": 48,
     "metadata": {},
     "output_type": "execute_result"
    }
   ],
   "source": [
    "min(nums)"
   ]
  },
  {
   "cell_type": "code",
   "execution_count": 49,
   "metadata": {},
   "outputs": [
    {
     "data": {
      "text/plain": [
       "585066"
      ]
     },
     "execution_count": 49,
     "metadata": {},
     "output_type": "execute_result"
    }
   ],
   "source": [
    "sum(nums)"
   ]
  },
  {
   "cell_type": "code",
   "execution_count": 50,
   "metadata": {},
   "outputs": [
    {
     "data": {
      "text/plain": [
       "83580.85714285714"
      ]
     },
     "execution_count": 50,
     "metadata": {},
     "output_type": "execute_result"
    }
   ],
   "source": [
    "average = sum(nums) / len(nums)\n",
    "average"
   ]
  },
  {
   "cell_type": "code",
   "execution_count": 51,
   "metadata": {},
   "outputs": [
    {
     "data": {
      "text/plain": [
       "['s', 'p', 'a', 'm']"
      ]
     },
     "execution_count": 51,
     "metadata": {},
     "output_type": "execute_result"
    }
   ],
   "source": [
    "string = 'spam'\n",
    "l = list(string)\n",
    "l"
   ]
  },
  {
   "cell_type": "code",
   "execution_count": 52,
   "metadata": {},
   "outputs": [],
   "source": [
    "string = 'There are so many things you can do here...'"
   ]
  },
  {
   "cell_type": "code",
   "execution_count": 53,
   "metadata": {},
   "outputs": [
    {
     "data": {
      "text/plain": [
       "['There', 'are', 'so', 'many', 'things', 'you', 'can', 'do', 'here...']"
      ]
     },
     "execution_count": 53,
     "metadata": {},
     "output_type": "execute_result"
    }
   ],
   "source": [
    "as_list = string.split()\n",
    "as_list"
   ]
  },
  {
   "cell_type": "code",
   "execution_count": 54,
   "metadata": {},
   "outputs": [
    {
     "data": {
      "text/plain": [
       "'Therearesomanythingsyoucandohere...'"
      ]
     },
     "execution_count": 54,
     "metadata": {},
     "output_type": "execute_result"
    }
   ],
   "source": [
    "\"\".join(as_list)"
   ]
  },
  {
   "cell_type": "code",
   "execution_count": 55,
   "metadata": {},
   "outputs": [
    {
     "data": {
      "text/plain": [
       "'There are so many things you can do here...'"
      ]
     },
     "execution_count": 55,
     "metadata": {},
     "output_type": "execute_result"
    }
   ],
   "source": [
    "\" \".join(as_list)"
   ]
  },
  {
   "cell_type": "code",
   "execution_count": 56,
   "metadata": {},
   "outputs": [
    {
     "data": {
      "text/plain": [
       "'There///are///so///many///things///you///can///do///here...'"
      ]
     },
     "execution_count": 56,
     "metadata": {},
     "output_type": "execute_result"
    }
   ],
   "source": [
    "\"///\".join(as_list)"
   ]
  },
  {
   "cell_type": "code",
   "execution_count": 51,
   "metadata": {},
   "outputs": [
    {
     "data": {
      "text/plain": [
       "[5, 7, 9, 11, 54, 6, 584974]"
      ]
     },
     "execution_count": 51,
     "metadata": {},
     "output_type": "execute_result"
    }
   ],
   "source": [
    "nums"
   ]
  },
  {
   "cell_type": "code",
   "execution_count": 63,
   "metadata": {},
   "outputs": [],
   "source": [
    "big_nums = []\n",
    "\n",
    "for num in nums:\n",
    "    if num > 10:\n",
    "        big_nums.append(num)"
   ]
  },
  {
   "cell_type": "code",
   "execution_count": 64,
   "metadata": {},
   "outputs": [
    {
     "data": {
      "text/plain": [
       "[54]"
      ]
     },
     "execution_count": 64,
     "metadata": {},
     "output_type": "execute_result"
    }
   ],
   "source": [
    "big_nums"
   ]
  },
  {
   "cell_type": "code",
   "execution_count": 65,
   "metadata": {},
   "outputs": [
    {
     "data": {
      "text/plain": [
       "[5, 7, 9, 54, 6]"
      ]
     },
     "execution_count": 65,
     "metadata": {},
     "output_type": "execute_result"
    }
   ],
   "source": [
    "nums"
   ]
  },
  {
   "cell_type": "code",
   "execution_count": 66,
   "metadata": {},
   "outputs": [
    {
     "data": {
      "text/plain": [
       "[54]"
      ]
     },
     "execution_count": 66,
     "metadata": {},
     "output_type": "execute_result"
    }
   ],
   "source": [
    "big_nums"
   ]
  },
  {
   "cell_type": "code",
   "execution_count": 67,
   "metadata": {},
   "outputs": [],
   "source": [
    "for num in nums:\n",
    "    if num in big_nums:\n",
    "        nums.remove(num)"
   ]
  },
  {
   "cell_type": "code",
   "execution_count": 68,
   "metadata": {},
   "outputs": [
    {
     "data": {
      "text/plain": [
       "[5, 7, 9, 6]"
      ]
     },
     "execution_count": 68,
     "metadata": {},
     "output_type": "execute_result"
    }
   ],
   "source": [
    "nums"
   ]
  },
  {
   "cell_type": "code",
   "execution_count": 69,
   "metadata": {},
   "outputs": [],
   "source": [
    "nums.sort()"
   ]
  },
  {
   "cell_type": "code",
   "execution_count": 70,
   "metadata": {},
   "outputs": [
    {
     "data": {
      "text/plain": [
       "[5, 6, 7, 9]"
      ]
     },
     "execution_count": 70,
     "metadata": {},
     "output_type": "execute_result"
    }
   ],
   "source": [
    "nums"
   ]
  },
  {
   "cell_type": "markdown",
   "metadata": {},
   "source": [
    ":-) "
   ]
  },
  {
   "cell_type": "code",
   "execution_count": 71,
   "metadata": {},
   "outputs": [],
   "source": [
    "mini = ['Cooper', 'Clubman', 'Countryman']"
   ]
  },
  {
   "cell_type": "code",
   "execution_count": 72,
   "metadata": {},
   "outputs": [
    {
     "data": {
      "text/plain": [
       "['Cooper', 'Clubman', 'Countryman']"
      ]
     },
     "execution_count": 72,
     "metadata": {},
     "output_type": "execute_result"
    }
   ],
   "source": [
    "mini"
   ]
  },
  {
   "cell_type": "code",
   "execution_count": 73,
   "metadata": {},
   "outputs": [],
   "source": [
    "mini.sort()"
   ]
  },
  {
   "cell_type": "code",
   "execution_count": 74,
   "metadata": {},
   "outputs": [
    {
     "data": {
      "text/plain": [
       "['Clubman', 'Cooper', 'Countryman']"
      ]
     },
     "execution_count": 74,
     "metadata": {},
     "output_type": "execute_result"
    }
   ],
   "source": [
    "mini"
   ]
  },
  {
   "cell_type": "code",
   "execution_count": 75,
   "metadata": {},
   "outputs": [],
   "source": [
    "mini.reverse()"
   ]
  },
  {
   "cell_type": "code",
   "execution_count": 76,
   "metadata": {},
   "outputs": [
    {
     "data": {
      "text/plain": [
       "['Countryman', 'Cooper', 'Clubman']"
      ]
     },
     "execution_count": 76,
     "metadata": {},
     "output_type": "execute_result"
    }
   ],
   "source": [
    "mini"
   ]
  },
  {
   "cell_type": "code",
   "execution_count": 77,
   "metadata": {},
   "outputs": [
    {
     "data": {
      "text/plain": [
       "3"
      ]
     },
     "execution_count": 77,
     "metadata": {},
     "output_type": "execute_result"
    }
   ],
   "source": [
    "len(mini)"
   ]
  },
  {
   "cell_type": "code",
   "execution_count": 78,
   "metadata": {},
   "outputs": [
    {
     "name": "stdout",
     "output_type": "stream",
     "text": [
      "I think the Mini Cooper is the best looking of these 3 options.\n"
     ]
    }
   ],
   "source": [
    "print(\"I think the Mini \" + str(mini[1]) + ' is the best looking of these ' + str(len(mini)) + ' options.')"
   ]
  },
  {
   "cell_type": "markdown",
   "metadata": {},
   "source": [
    "# Your Turn"
   ]
  },
  {
   "cell_type": "markdown",
   "metadata": {},
   "source": [
    "1. Make a list of numbers from 1 to 1,000,000. Use a loop to print each of those numbers. \n",
    "\n",
    "2. Use a loop to print only the odd numbers from 1 to 1,000,000. \n",
    "\n",
    "3. Delete the odds numbers from the list.\n",
    "\n",
    "4. Add your name to the list. \n",
    "\n",
    "5. Using a loop, print only strings (e.g. your name) from the list. \n",
    "\n",
    "6. Using strings, lists, loops, conditional execution, the `input()` function, the `format()` method, and anything else we have learned so far, create a very small but working choose your own adventure text game. "
   ]
  },
  {
   "cell_type": "markdown",
   "metadata": {},
   "source": [
    "# Dictionaries"
   ]
  },
  {
   "cell_type": "markdown",
   "metadata": {},
   "source": [
    "Dictionaries make it easy for you to connect related pieces of information. That's pretty abstract... let's get specific. Let's use a dictionary to store some information about a person. "
   ]
  },
  {
   "cell_type": "code",
   "execution_count": 2,
   "metadata": {},
   "outputs": [],
   "source": [
    "person_1 = {'name': 'Jackie', 'age':37, 'Citizenship': 'American'}"
   ]
  },
  {
   "cell_type": "markdown",
   "metadata": {},
   "source": [
    "Unlike lists, dictionaries do not have an order. Therefore, you can't reference something by position / index. Instead, you reference `keys` to get `values`. "
   ]
  },
  {
   "cell_type": "code",
   "execution_count": 3,
   "metadata": {},
   "outputs": [
    {
     "data": {
      "text/plain": [
       "'Jackie'"
      ]
     },
     "execution_count": 3,
     "metadata": {},
     "output_type": "execute_result"
    }
   ],
   "source": [
    "person_1['name']"
   ]
  },
  {
   "cell_type": "code",
   "execution_count": 4,
   "metadata": {},
   "outputs": [
    {
     "data": {
      "text/plain": [
       "'American'"
      ]
     },
     "execution_count": 4,
     "metadata": {},
     "output_type": "execute_result"
    }
   ],
   "source": [
    "person_1['Citizenship']"
   ]
  },
  {
   "cell_type": "code",
   "execution_count": 7,
   "metadata": {},
   "outputs": [
    {
     "name": "stdout",
     "output_type": "stream",
     "text": [
      "Hey Jackie! I did not know that you are American.\n"
     ]
    }
   ],
   "source": [
    "print('Hey ' + person_1['name'] + '! I did not know that you are ' + person_1['Citizenship'] + \".\")"
   ]
  },
  {
   "cell_type": "markdown",
   "metadata": {},
   "source": [
    "We can add new information to a dictionary. Let's start with an empty one."
   ]
  },
  {
   "cell_type": "code",
   "execution_count": 10,
   "metadata": {},
   "outputs": [],
   "source": [
    "person = {}\n",
    "\n",
    "person['first_name'] = 'Stanley'\n",
    "person['last_name'] = 'Erickson'\n",
    "person['age'] = 40\n",
    "person['fav_band'] = 'Wolf Parade'\n",
    "person['occupation'] = 'Communications Officer'"
   ]
  },
  {
   "cell_type": "code",
   "execution_count": 11,
   "metadata": {},
   "outputs": [
    {
     "data": {
      "text/plain": [
       "{'age': 40,\n",
       " 'fav_band': 'Wolf Parade',\n",
       " 'first_name': 'Stanley',\n",
       " 'last_name': 'Erickson',\n",
       " 'occupation': 'Communications Officer'}"
      ]
     },
     "execution_count": 11,
     "metadata": {},
     "output_type": "execute_result"
    }
   ],
   "source": [
    "person"
   ]
  },
  {
   "cell_type": "markdown",
   "metadata": {},
   "source": [
    "What would I do if I wanted to access information about Stanley's favorite band?"
   ]
  },
  {
   "cell_type": "code",
   "execution_count": null,
   "metadata": {},
   "outputs": [],
   "source": []
  },
  {
   "cell_type": "markdown",
   "metadata": {},
   "source": [
    "Let's say Stanley got tired of listening to Wolf Parade albumns all day and now his favorites are Belle and Sebastian, Joanna Newsom, Beirut, and Father John Misty. He can't choose. "
   ]
  },
  {
   "cell_type": "code",
   "execution_count": 12,
   "metadata": {},
   "outputs": [],
   "source": [
    "person['fav_band'] = ['Belle and Sebastian', 'Joanna Newsom', 'Beirut', 'Father John Misty']"
   ]
  },
  {
   "cell_type": "code",
   "execution_count": 13,
   "metadata": {},
   "outputs": [
    {
     "data": {
      "text/plain": [
       "{'age': 40,\n",
       " 'fav_band': ['Belle and Sebastian',\n",
       "  'Joanna Newsom',\n",
       "  'Beirut',\n",
       "  'Father John Misty'],\n",
       " 'first_name': 'Stanley',\n",
       " 'last_name': 'Erickson',\n",
       " 'occupation': 'Communications Officer'}"
      ]
     },
     "execution_count": 13,
     "metadata": {},
     "output_type": "execute_result"
    }
   ],
   "source": [
    "person"
   ]
  },
  {
   "cell_type": "markdown",
   "metadata": {},
   "source": [
    "Wow! A list inside a dictionary! "
   ]
  },
  {
   "cell_type": "code",
   "execution_count": 14,
   "metadata": {},
   "outputs": [
    {
     "data": {
      "text/plain": [
       "['Belle and Sebastian', 'Joanna Newsom', 'Beirut', 'Father John Misty']"
      ]
     },
     "execution_count": 14,
     "metadata": {},
     "output_type": "execute_result"
    }
   ],
   "source": [
    "person['fav_band']"
   ]
  },
  {
   "cell_type": "code",
   "execution_count": 15,
   "metadata": {},
   "outputs": [
    {
     "data": {
      "text/plain": [
       "'Belle and Sebastian'"
      ]
     },
     "execution_count": 15,
     "metadata": {},
     "output_type": "execute_result"
    }
   ],
   "source": [
    "person['fav_band'][0]"
   ]
  },
  {
   "cell_type": "code",
   "execution_count": 16,
   "metadata": {},
   "outputs": [
    {
     "data": {
      "text/plain": [
       "'Beirut'"
      ]
     },
     "execution_count": 16,
     "metadata": {},
     "output_type": "execute_result"
    }
   ],
   "source": [
    "person['fav_band'][2]"
   ]
  },
  {
   "cell_type": "markdown",
   "metadata": {},
   "source": [
    "Is this ^ what you expected? If so, why? If not, why?\n",
    "\n",
    "Let's remind ourselves what we have to work with here..."
   ]
  },
  {
   "cell_type": "code",
   "execution_count": 17,
   "metadata": {},
   "outputs": [
    {
     "data": {
      "text/plain": [
       "dict_keys(['first_name', 'last_name', 'age', 'fav_band', 'occupation'])"
      ]
     },
     "execution_count": 17,
     "metadata": {},
     "output_type": "execute_result"
    }
   ],
   "source": [
    "person.keys()"
   ]
  },
  {
   "cell_type": "code",
   "execution_count": 18,
   "metadata": {},
   "outputs": [
    {
     "data": {
      "text/plain": [
       "dict_items([('first_name', 'Stanley'), ('last_name', 'Erickson'), ('age', 40), ('fav_band', ['Belle and Sebastian', 'Joanna Newsom', 'Beirut', 'Father John Misty']), ('occupation', 'Communications Officer')])"
      ]
     },
     "execution_count": 18,
     "metadata": {},
     "output_type": "execute_result"
    }
   ],
   "source": [
    "person.items()"
   ]
  },
  {
   "cell_type": "code",
   "execution_count": 22,
   "metadata": {},
   "outputs": [
    {
     "name": "stdout",
     "output_type": "stream",
     "text": [
      "\n",
      "Key: first_name\n",
      "Value Stanley\n",
      "\n",
      "Key: last_name\n",
      "Value Erickson\n",
      "\n",
      "Key: age\n",
      "Value 40\n",
      "\n",
      "Key: fav_band\n",
      "Value ['Belle and Sebastian', 'Joanna Newsom', 'Beirut', 'Father John Misty']\n",
      "\n",
      "Key: occupation\n",
      "Value Communications Officer\n"
     ]
    }
   ],
   "source": [
    "for key, value in person.items():\n",
    "    print('\\nKey: ' + key)\n",
    "    print('Value ' + str(value))"
   ]
  },
  {
   "cell_type": "code",
   "execution_count": 23,
   "metadata": {},
   "outputs": [
    {
     "name": "stdout",
     "output_type": "stream",
     "text": [
      "\n",
      "Key: first_name\n",
      "Value Stanley\n",
      "\n",
      "Key: last_name\n",
      "Value Erickson\n",
      "\n",
      "Key: age\n",
      "Value 40\n",
      "\n",
      "Key: fav_band\n",
      "Value ['Belle and Sebastian', 'Joanna Newsom', 'Beirut', 'Father John Misty']\n",
      "\n",
      "Key: occupation\n",
      "Value Communications Officer\n"
     ]
    }
   ],
   "source": [
    "for k, v in person.items():\n",
    "    print('\\nKey: ' + k)\n",
    "    print('Value ' + str(v))"
   ]
  },
  {
   "cell_type": "markdown",
   "metadata": {},
   "source": [
    "So, we can have lists in dictionaries. Turns out we can also have lists of dictionaries, or dictionaries of dictionaries... "
   ]
  },
  {
   "cell_type": "code",
   "execution_count": 28,
   "metadata": {},
   "outputs": [],
   "source": [
    "person_1 = {'first_name': 'Stanley', 'last_name': 'Erickson', 'age': 40, 'fav_band':['Belle and Sebastian', 'Joanna Newsom', 'Beirut', 'Father John Misty'], 'occupation': 'Communications Officer'}\n",
    "person_2 = {'first_name': 'Kat', 'last_name': 'Wasserman', 'age': 29, 'fav_band':['Joel Plaskett', 'Hey Rosetta!'], 'occupation': 'Accountant'}\n",
    "person_3 = {'first_name': 'Ethan', 'last_name': 'Anderson', 'age': 31, 'fav_band':['Lana Del Rey', 'Leonard Cohen', 'Passion Pit', 'Plants and Animals', 'Metric'], 'occupation': 'Pilot'}\n",
    "person_4 = {'first_name': 'Michelle', 'last_name': 'Powell', 'age': 24, 'fav_band':['Lykke Li', 'MGMT', 'Modest Mouse', 'Rah Rah', 'Plants and Animals', 'Stars', 'Tokyo Police Club'], 'occupation': 'Batender'} "
   ]
  },
  {
   "cell_type": "code",
   "execution_count": 29,
   "metadata": {},
   "outputs": [],
   "source": [
    "people = [person_1, person_2, person_3, person_4]"
   ]
  },
  {
   "cell_type": "code",
   "execution_count": 30,
   "metadata": {},
   "outputs": [
    {
     "data": {
      "text/plain": [
       "[{'age': 40,\n",
       "  'fav_band': ['Belle and Sebastian',\n",
       "   'Joanna Newsom',\n",
       "   'Beirut',\n",
       "   'Father John Misty'],\n",
       "  'first_name': 'Stanley',\n",
       "  'last_name': 'Erickson',\n",
       "  'occupation': 'Communications Officer'},\n",
       " {'age': 29,\n",
       "  'fav_band': ['Joel Plaskett', 'Hey Rosetta!'],\n",
       "  'first_name': 'Kat',\n",
       "  'last_name': 'Wasserman',\n",
       "  'occupation': 'Accountant'},\n",
       " {'age': 31,\n",
       "  'fav_band': ['Lana Del Rey',\n",
       "   'Leonard Cohen',\n",
       "   'Passion Pit',\n",
       "   'Plants and Animals',\n",
       "   'Metric'],\n",
       "  'first_name': 'Ethan',\n",
       "  'last_name': 'Anderson',\n",
       "  'occupation': 'Pilot'},\n",
       " {'age': 24,\n",
       "  'fav_band': ['Lykke Li',\n",
       "   'MGMT',\n",
       "   'Modest Mouse',\n",
       "   'Rah Rah',\n",
       "   'Plants and Animals',\n",
       "   'Stars',\n",
       "   'Tokyo Police Club'],\n",
       "  'first_name': 'Michelle',\n",
       "  'last_name': 'Powell',\n",
       "  'occupation': 'Batender'}]"
      ]
     },
     "execution_count": 30,
     "metadata": {},
     "output_type": "execute_result"
    }
   ],
   "source": [
    "people"
   ]
  },
  {
   "cell_type": "code",
   "execution_count": 34,
   "metadata": {},
   "outputs": [
    {
     "name": "stdout",
     "output_type": "stream",
     "text": [
      "{'first_name': 'Stanley', 'last_name': 'Erickson', 'age': 40, 'fav_band': ['Belle and Sebastian', 'Joanna Newsom', 'Beirut', 'Father John Misty'], 'occupation': 'Communications Officer'}\n",
      "{'first_name': 'Kat', 'last_name': 'Wasserman', 'age': 29, 'fav_band': ['Joel Plaskett', 'Hey Rosetta!'], 'occupation': 'Accountant'}\n",
      "{'first_name': 'Ethan', 'last_name': 'Anderson', 'age': 31, 'fav_band': ['Lana Del Rey', 'Leonard Cohen', 'Passion Pit', 'Plants and Animals', 'Metric'], 'occupation': 'Pilot'}\n",
      "{'first_name': 'Michelle', 'last_name': 'Powell', 'age': 24, 'fav_band': ['Lykke Li', 'MGMT', 'Modest Mouse', 'Rah Rah', 'Plants and Animals', 'Stars', 'Tokyo Police Club'], 'occupation': 'Batender'}\n"
     ]
    }
   ],
   "source": [
    "for p in people:\n",
    "    print(p)"
   ]
  },
  {
   "cell_type": "code",
   "execution_count": 36,
   "metadata": {},
   "outputs": [
    {
     "name": "stdout",
     "output_type": "stream",
     "text": [
      "Ethan\n",
      "Michelle\n"
     ]
    }
   ],
   "source": [
    "for p in people:\n",
    "    if 'Plants and Animals' in p['fav_band']:\n",
    "        print(p['first_name'])"
   ]
  },
  {
   "cell_type": "code",
   "execution_count": 37,
   "metadata": {},
   "outputs": [
    {
     "name": "stdout",
     "output_type": "stream",
     "text": [
      "Stanley\n"
     ]
    }
   ],
   "source": [
    "for p in people:\n",
    "    if 'Beirut' in p['fav_band']:\n",
    "        print(p['first_name'])"
   ]
  },
  {
   "cell_type": "code",
   "execution_count": 38,
   "metadata": {},
   "outputs": [
    {
     "name": "stdout",
     "output_type": "stream",
     "text": [
      "['Lykke Li', 'MGMT', 'Modest Mouse', 'Rah Rah', 'Plants and Animals', 'Stars', 'Tokyo Police Club']\n"
     ]
    }
   ],
   "source": [
    "for p in people:\n",
    "    if p['first_name'] == 'Michelle':\n",
    "        print(p['fav_band'])"
   ]
  },
  {
   "cell_type": "markdown",
   "metadata": {},
   "source": [
    "Even though it is possible to nest dictionaries and lists, you should not nest too deeply. If you find yourself nesting deeply, stop. There is a better way to do what you want to do. "
   ]
  },
  {
   "cell_type": "markdown",
   "metadata": {},
   "source": [
    "# Your Turn"
   ]
  },
  {
   "cell_type": "markdown",
   "metadata": {},
   "source": [
    "Define some dictionaries and loop over their `key` `value` pairs to access and modify information. Try including a list inside your dictionary, and then create a list of dictionaries. \n",
    "\n",
    "Once you have done that, turn your attention back to your choose your own adventure game. Could any of this be improved with your new knowledge of dictionaries? \n",
    "\n",
    "Next class we will be covering external files and and working with data in pandas! We will finally get to play with some real data! :-) "
   ]
  },
  {
   "cell_type": "code",
   "execution_count": null,
   "metadata": {},
   "outputs": [],
   "source": []
  }
 ],
 "metadata": {
  "celltoolbar": "Slideshow",
  "kernelspec": {
   "display_name": "Python 3",
   "language": "python",
   "name": "python3"
  },
  "language_info": {
   "codemirror_mode": {
    "name": "ipython",
    "version": 3
   },
   "file_extension": ".py",
   "mimetype": "text/x-python",
   "name": "python",
   "nbconvert_exporter": "python",
   "pygments_lexer": "ipython3",
   "version": "3.6.3"
  }
 },
 "nbformat": 4,
 "nbformat_minor": 2
}
